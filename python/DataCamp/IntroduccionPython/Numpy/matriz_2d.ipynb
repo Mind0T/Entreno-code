{
 "cells": [
  {
   "cell_type": "code",
   "execution_count": 1,
   "id": "579957f1",
   "metadata": {},
   "outputs": [],
   "source": [
    "import numpy as np\n",
    "#los a arrays dee Numpy son muy poderosos\n",
    "#asume que los la matriz tiene el mismo tipo de dato"
   ]
  },
  {
   "cell_type": "code",
   "execution_count": 2,
   "id": "126bfc7a",
   "metadata": {},
   "outputs": [],
   "source": [
    "np_2d=np.array([[1.73,1.68,1.71,1.89,1.79],\n",
    "                [65.4,59.2,63.6,88.4,68.7],\n",
    "                [50,39,29,75,29]]\n",
    "                )\n"
   ]
  },
  {
   "cell_type": "code",
   "execution_count": 15,
   "id": "4feecdee",
   "metadata": {},
   "outputs": [
    {
     "data": {
      "text/plain": [
       "(3, 5)"
      ]
     },
     "execution_count": 15,
     "metadata": {},
     "output_type": "execute_result"
    }
   ],
   "source": [
    "np_2d.shape"
   ]
  },
  {
   "cell_type": "code",
   "execution_count": 4,
   "id": "8b60080f",
   "metadata": {},
   "outputs": [
    {
     "data": {
      "text/plain": [
       "(3, 5)"
      ]
     },
     "execution_count": 4,
     "metadata": {},
     "output_type": "execute_result"
    }
   ],
   "source": [
    "np_2d.shape # aqui me dara las filas y las columnas Es diferente un atributo como este que un metodo que tiene corchetes despues"
   ]
  },
  {
   "cell_type": "code",
   "execution_count": null,
   "id": "0f2259c2",
   "metadata": {},
   "outputs": [
    {
     "data": {
      "text/plain": [
       "array([[ 1.68,  1.71],\n",
       "       [59.2 , 63.6 ],\n",
       "       [39.  , 29.  ]])"
      ]
     },
     "execution_count": 9,
     "metadata": {},
     "output_type": "execute_result"
    }
   ],
   "source": [
    "#subconjuntos\n",
    "np_2d[:,1:3]  \n",
    "#Aqui lo que quiero son todas las columnas por eso se ponen los dos renglones iniciales\n",
    "# Le renglon 2 y 3 que corresponden alos inidices 1 y 2 "
   ]
  },
  {
   "cell_type": "code",
   "execution_count": 6,
   "id": "a19e2e10",
   "metadata": {},
   "outputs": [
    {
     "data": {
      "text/plain": [
       "array([50., 39., 29., 75., 29.])"
      ]
     },
     "execution_count": 6,
     "metadata": {},
     "output_type": "execute_result"
    }
   ],
   "source": [
    "# ahora quiero todos los renglones pero de la fila 3 \n",
    "np_2d[2,:]"
   ]
  },
  {
   "cell_type": "code",
   "execution_count": 13,
   "id": "8699ec2f",
   "metadata": {},
   "outputs": [
    {
     "name": "stdout",
     "output_type": "stream",
     "text": [
      "[[ 13.84  13.44  13.68  15.12  14.32]\n",
      " [523.2  473.6  508.8  707.2  549.6 ]\n",
      " [400.   312.   232.   600.   232.  ]]\n"
     ]
    }
   ],
   "source": [
    "print(np_2d)"
   ]
  },
  {
   "cell_type": "code",
   "execution_count": 14,
   "id": "ebd865e7",
   "metadata": {},
   "outputs": [
    {
     "name": "stdout",
     "output_type": "stream",
     "text": [
      "<class 'numpy.ndarray'>\n"
     ]
    }
   ],
   "source": [
    "print(type(np_2d))"
   ]
  }
 ],
 "metadata": {
  "kernelspec": {
   "display_name": "Python 3",
   "language": "python",
   "name": "python3"
  },
  "language_info": {
   "codemirror_mode": {
    "name": "ipython",
    "version": 3
   },
   "file_extension": ".py",
   "mimetype": "text/x-python",
   "name": "python",
   "nbconvert_exporter": "python",
   "pygments_lexer": "ipython3",
   "version": "3.10.6"
  }
 },
 "nbformat": 4,
 "nbformat_minor": 5
}
