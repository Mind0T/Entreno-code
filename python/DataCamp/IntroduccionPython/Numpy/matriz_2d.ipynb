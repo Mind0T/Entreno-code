{
 "cells": [
  {
   "cell_type": "code",
   "execution_count": 2,
   "id": "579957f1",
   "metadata": {},
   "outputs": [],
   "source": [
    "import numpy as np"
   ]
  },
  {
   "cell_type": "code",
   "execution_count": 6,
   "id": "126bfc7a",
   "metadata": {},
   "outputs": [],
   "source": [
    "np_2d=np.array([[1.73,1.68,1.71,1.89,1.79],\n",
    "                [65.4,59.2,63.6,88.4,68.7],\n",
    "                [50,39,29,75,29]]\n",
    "                )\n"
   ]
  },
  {
   "cell_type": "code",
   "execution_count": 7,
   "id": "4feecdee",
   "metadata": {},
   "outputs": [
    {
     "data": {
      "text/plain": [
       "array([[ 1.73,  1.68,  1.71,  1.89,  1.79],\n",
       "       [65.4 , 59.2 , 63.6 , 88.4 , 68.7 ],\n",
       "       [50.  , 39.  , 29.  , 75.  , 29.  ]])"
      ]
     },
     "execution_count": 7,
     "metadata": {},
     "output_type": "execute_result"
    }
   ],
   "source": [
    "np_2d"
   ]
  },
  {
   "cell_type": "code",
   "execution_count": null,
   "id": "8b60080f",
   "metadata": {},
   "outputs": [
    {
     "data": {
      "text/plain": [
       "(3, 5)"
      ]
     },
     "execution_count": 8,
     "metadata": {},
     "output_type": "execute_result"
    }
   ],
   "source": [
    "np_2d.shape # aqui me dara las filas y las columnas Es diferente un atributo como este que un metodo que tiene corchetes despues"
   ]
  },
  {
   "cell_type": "code",
   "execution_count": null,
   "id": "0f2259c2",
   "metadata": {},
   "outputs": [
    {
     "data": {
      "text/plain": [
       "array([[ 1.68,  1.71],\n",
       "       [59.2 , 63.6 ],\n",
       "       [39.  , 29.  ]])"
      ]
     },
     "execution_count": 9,
     "metadata": {},
     "output_type": "execute_result"
    }
   ],
   "source": [
    "#subconjuntos\n",
    "np_2d[:,1:3]  \n",
    "#Aqui lo que quiero son todas las columnas por eso se ponen los dos renglones iniciales\n",
    "# Le renglon 2 y 3 que corresponden alos inidices 1 y 2 "
   ]
  },
  {
   "cell_type": "code",
   "execution_count": 10,
   "id": "a19e2e10",
   "metadata": {},
   "outputs": [
    {
     "data": {
      "text/plain": [
       "array([50., 39., 29., 75., 29.])"
      ]
     },
     "execution_count": 10,
     "metadata": {},
     "output_type": "execute_result"
    }
   ],
   "source": [
    "# ahora quiero todos los renglones pero de la fila 3 \n",
    "np_2d[2,:]"
   ]
  },
  {
   "cell_type": "code",
   "execution_count": null,
   "id": "8699ec2f",
   "metadata": {},
   "outputs": [],
   "source": []
  }
 ],
 "metadata": {
  "kernelspec": {
   "display_name": "Python 3",
   "language": "python",
   "name": "python3"
  },
  "language_info": {
   "codemirror_mode": {
    "name": "ipython",
    "version": 3
   },
   "file_extension": ".py",
   "mimetype": "text/x-python",
   "name": "python",
   "nbconvert_exporter": "python",
   "pygments_lexer": "ipython3",
   "version": "3.10.6"
  }
 },
 "nbformat": 4,
 "nbformat_minor": 5
}
