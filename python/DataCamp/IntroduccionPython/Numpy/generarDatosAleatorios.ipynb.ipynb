{
 "cells": [
  {
   "cell_type": "code",
   "execution_count": null,
   "id": "c10cb286",
   "metadata": {},
   "outputs": [],
   "source": [
    "import numpy as np\n",
    "#En esto notebook usara diferentes metodos de numpy para practicar"
   ]
  },
  {
   "cell_type": "code",
   "execution_count": null,
   "id": "604e993e",
   "metadata": {},
   "outputs": [],
   "source": [
    "height=np.round(np.random.normal(1.75,0.20,5000),2)\n",
    "weight=np.round(np.random.normal(60.32,15,5000),2)\n",
    "'''\n",
    "1. np.random.normal(loc, scale, size)\n",
    "\n",
    "loc → es la media (el valor alrededor del cual se generan los números).\n",
    "\n",
    "scale → es la desviación estándar (qué tanto se dispersan los valores alrededor de la media).\n",
    "\n",
    "size → es cuántos valores quieres generar.\n",
    "\n",
    "Es decir:\n",
    "\n",
    "np.random.normal(1.75, 0.20, 5000)\n",
    "Genera 5000 valores aleatorios siguiendo una distribución normal con:\n",
    "\n",
    "media = 1.75 (ejemplo: altura promedio en metros)\n",
    "\n",
    "desviación estándar = 0.20 (qué tanto varían esas alturas).\n",
    "\n",
    "np.random.normal(60.32, 15, 5000)\n",
    "Genera 5000 valores aleatorios con:\n",
    "\n",
    "media = 60.32 (ejemplo: peso promedio en kg)\n",
    "\n",
    "desviación estándar = 15 (qué tanto varía el peso).\n",
    "\n",
    "2. np.round(..., 2)\n",
    "\n",
    "Esto redondea cada valor a 2 decimales, para que no tengas demasiada precisión decimal.\n",
    "Por ejemplo:\n",
    "\n",
    "1.752349 → 1.75\n",
    "\n",
    "61.28745 → 61.29'''\n",
    "np\n"
   ]
  },
  {
   "cell_type": "code",
   "execution_count": 4,
   "id": "0046b85b",
   "metadata": {},
   "outputs": [],
   "source": [
    "np_city=np.column_stack((height,weight))"
   ]
  },
  {
   "cell_type": "code",
   "execution_count": 5,
   "id": "57e13d2c",
   "metadata": {},
   "outputs": [
    {
     "data": {
      "text/plain": [
       "array([[ 1.55, 52.86],\n",
       "       [ 1.9 , 59.7 ],\n",
       "       [ 1.7 , 76.08],\n",
       "       ...,\n",
       "       [ 1.82, 37.01],\n",
       "       [ 1.5 , 59.64],\n",
       "       [ 1.77, 59.23]])"
      ]
     },
     "execution_count": 5,
     "metadata": {},
     "output_type": "execute_result"
    }
   ],
   "source": [
    "np_city"
   ]
  }
 ],
 "metadata": {
  "kernelspec": {
   "display_name": "Python 3",
   "language": "python",
   "name": "python3"
  },
  "language_info": {
   "codemirror_mode": {
    "name": "ipython",
    "version": 3
   },
   "file_extension": ".py",
   "mimetype": "text/x-python",
   "name": "python",
   "nbconvert_exporter": "python",
   "pygments_lexer": "ipython3",
   "version": "3.10.6"
  }
 },
 "nbformat": 4,
 "nbformat_minor": 5
}
