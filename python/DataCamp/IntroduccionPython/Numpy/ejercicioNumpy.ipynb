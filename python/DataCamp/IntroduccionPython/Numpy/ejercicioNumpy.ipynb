{
 "cells": [
  {
   "cell_type": "code",
   "execution_count": null,
   "id": "f3bbac42",
   "metadata": {},
   "outputs": [],
   "source": [
    "import numpy as np #importar mi libreria de numpy\n",
    "    \n",
    "#ademas de las funciones abajo estan sum(), sort()"
   ]
  },
  {
   "cell_type": "code",
   "execution_count": 62,
   "id": "2931d28a",
   "metadata": {},
   "outputs": [],
   "source": [
    "#Genero los valores aleatorios de peso y altura\n",
    "altura=np.round(np.random.normal(1.75,.2,5000),2)\n",
    "peso=np.round(np.random.normal(64,20,5000),2)\n",
    "edad=np.round(np.random.normal(30,4,5000))"
   ]
  },
  {
   "cell_type": "code",
   "execution_count": 63,
   "id": "c55a5c6f",
   "metadata": {},
   "outputs": [],
   "source": [
    "personas_talla_peso=np.column_stack((altura,peso,edad))"
   ]
  },
  {
   "cell_type": "code",
   "execution_count": 64,
   "id": "d22e0019",
   "metadata": {},
   "outputs": [
    {
     "name": "stdout",
     "output_type": "stream",
     "text": [
      "[[ 1.75 70.84 35.  ]\n",
      " [ 1.42 69.56 31.  ]\n",
      " [ 1.63 57.22 26.  ]\n",
      " ...\n",
      " [ 1.75 81.55 31.  ]\n",
      " [ 1.62 69.98 26.  ]\n",
      " [ 1.87 73.87 33.  ]]\n"
     ]
    }
   ],
   "source": [
    "print(personas_talla_peso[:][:])"
   ]
  },
  {
   "cell_type": "code",
   "execution_count": 65,
   "id": "9cb46fc9",
   "metadata": {},
   "outputs": [
    {
     "name": "stdout",
     "output_type": "stream",
     "text": [
      "El promedio de la altura es: 1.748718\n"
     ]
    }
   ],
   "source": [
    "promedio_altura=np.mean(personas_talla_peso[:,0])\n",
    "print(f\"El promedio de la altura es: {promedio_altura}\")"
   ]
  },
  {
   "cell_type": "code",
   "execution_count": 66,
   "id": "ea49706c",
   "metadata": {},
   "outputs": [
    {
     "name": "stdout",
     "output_type": "stream",
     "text": [
      "La media de la altura es: 1.75\n"
     ]
    }
   ],
   "source": [
    "media_altura=np.median(personas_talla_peso[:,0])\n",
    "print(f\"La media de la altura es: {media_altura}\")"
   ]
  },
  {
   "cell_type": "code",
   "execution_count": 67,
   "id": "1c8daa32",
   "metadata": {},
   "outputs": [
    {
     "name": "stdout",
     "output_type": "stream",
     "text": [
      "El promedion de la edad es de : 29.9936\n"
     ]
    }
   ],
   "source": [
    "promedio_edad=np.mean(personas_talla_peso[:,2])\n",
    "print(f\"El promedion de la edad es de : {promedio_edad}\")"
   ]
  },
  {
   "cell_type": "code",
   "execution_count": 68,
   "id": "8476735d",
   "metadata": {},
   "outputs": [
    {
     "name": "stdout",
     "output_type": "stream",
     "text": [
      "La mediana de a la edad es 30.0\n"
     ]
    }
   ],
   "source": [
    "mediana_edad=np.median(personas_talla_peso[:,2])\n",
    "print(f\"La mediana de a la edad es {mediana_edad}\")"
   ]
  },
  {
   "cell_type": "code",
   "execution_count": 69,
   "id": "f28273f6",
   "metadata": {},
   "outputs": [
    {
     "name": "stdout",
     "output_type": "stream",
     "text": [
      "El promedio del peso es: 64.190926\n"
     ]
    }
   ],
   "source": [
    "promedio_peso=np.mean(personas_talla_peso[:,1])\n",
    "print(f\"El promedio del peso es: {promedio_peso}\")"
   ]
  },
  {
   "cell_type": "code",
   "execution_count": 70,
   "id": "4d694e22",
   "metadata": {},
   "outputs": [
    {
     "name": "stdout",
     "output_type": "stream",
     "text": [
      "La media del peso es: 64.33\n"
     ]
    }
   ],
   "source": [
    "media_peso=np.median(personas_talla_peso[:,1])\n",
    "print(f\"La media del peso es: {media_peso}\")"
   ]
  },
  {
   "cell_type": "code",
   "execution_count": 71,
   "id": "5a4fd94a",
   "metadata": {},
   "outputs": [
    {
     "name": "stdout",
     "output_type": "stream",
     "text": [
      "Desviacion estandar de peso 0.1994342409818334\n"
     ]
    }
   ],
   "source": [
    "desviacion_altura=np.std(personas_talla_peso[:,0])\n",
    "print(f\"Desviacion estandar de peso {desviacion_altura}\")"
   ]
  },
  {
   "cell_type": "code",
   "execution_count": 72,
   "id": "27edcccd",
   "metadata": {},
   "outputs": [
    {
     "name": "stdout",
     "output_type": "stream",
     "text": [
      "Desviacion estandar de peso 19.84675064393474\n"
     ]
    }
   ],
   "source": [
    "desviacion_peso=np.std(personas_talla_peso[:,1])\n",
    "print(f\"Desviacion estandar de peso {desviacion_peso}\")"
   ]
  },
  {
   "cell_type": "code",
   "execution_count": 73,
   "id": "be176e73",
   "metadata": {},
   "outputs": [
    {
     "name": "stdout",
     "output_type": "stream",
     "text": [
      "El coeficiete de correlacion de las variables altura y peso es de: [[ 1.         -0.00419032]\n",
      " [-0.00419032  1.        ]]\n"
     ]
    }
   ],
   "source": [
    "coef_corr=np.corrcoef(personas_talla_peso[:,0],personas_talla_peso[:,1])\n",
    "print(f\"El coeficiete de correlacion de las variables altura y peso es de: {coef_corr}\")"
   ]
  }
 ],
 "metadata": {
  "kernelspec": {
   "display_name": "Python 3",
   "language": "python",
   "name": "python3"
  },
  "language_info": {
   "codemirror_mode": {
    "name": "ipython",
    "version": 3
   },
   "file_extension": ".py",
   "mimetype": "text/x-python",
   "name": "python",
   "nbconvert_exporter": "python",
   "pygments_lexer": "ipython3",
   "version": "3.10.6"
  }
 },
 "nbformat": 4,
 "nbformat_minor": 5
}
